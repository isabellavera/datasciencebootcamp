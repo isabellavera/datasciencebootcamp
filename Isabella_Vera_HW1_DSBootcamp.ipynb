{
  "nbformat": 4,
  "nbformat_minor": 0,
  "metadata": {
    "colab": {
      "provenance": []
    },
    "kernelspec": {
      "name": "python3",
      "display_name": "Python 3"
    },
    "language_info": {
      "name": "python"
    }
  },
  "cells": [
    {
      "cell_type": "markdown",
      "source": [
        "1. Write a program that takes a word as an input and print the number of vowels in the word.\n",
        "2. Iterate through the following list of animals and print each one in all caps.\n",
        "\n",
        "  animals=['tiger', 'elephant', 'monkey', 'zebra', 'panther']\n",
        "\n",
        "3. Write a program that iterates from 1 to 20, printing each number and whether it's odd or even.\n",
        "4. Write a program to check if a string is a palindrome or not.\n",
        "5. Write a function sum_of_integers(a, b) that takes two integers as input from the user and returns their sum."
      ],
      "metadata": {
        "id": "mGbq-DQ8amk7"
      }
    },
    {
      "cell_type": "code",
      "source": [
        "#Import pandas\n",
        "import pandas as pd\n",
        "import numpy as np\n",
        "import matplotlib.pyplot as plt\n",
        "import seaborn as sns"
      ],
      "metadata": {
        "id": "zSChMVEiaqEz"
      },
      "execution_count": 1,
      "outputs": []
    },
    {
      "cell_type": "code",
      "source": [
        "from os import WCOREDUMP\n",
        "#Write a program that takes a word as an input and print the number of vowels in the word.\n",
        "Word = input(\"Enter a word: \")\n",
        "vowels = \"aeiouAEIOU\"\n",
        "count= 0\n",
        "\n",
        "for char in Word:\n",
        "  if char in vowels:\n",
        "    count += 1\n",
        "\n",
        "print(\"Number of vowels in the word is: \", count)"
      ],
      "metadata": {
        "colab": {
          "base_uri": "https://localhost:8080/"
        },
        "id": "URbIW9_Aazum",
        "outputId": "8a503d59-57af-402c-9e4c-eca9ce75a608"
      },
      "execution_count": 2,
      "outputs": [
        {
          "output_type": "stream",
          "name": "stdout",
          "text": [
            "Enter a word: Isabella\n",
            "Number of vowels in the word is:  4\n"
          ]
        }
      ]
    },
    {
      "cell_type": "code",
      "source": [
        "#Iterate through the following list of animals and print each one in all caps. animals=['tiger', 'elephant', 'monkey', 'zebra', 'panther']\n",
        "\n",
        "animals=['tiger', 'elephant', 'monkey', 'zebra', 'panther']\n",
        "for animal in animals:\n",
        "  print(animal.upper())\n"
      ],
      "metadata": {
        "colab": {
          "base_uri": "https://localhost:8080/"
        },
        "id": "4I16L6fdcVLV",
        "outputId": "ad857f86-c100-427e-cd29-0fc7abfd8700"
      },
      "execution_count": 3,
      "outputs": [
        {
          "output_type": "stream",
          "name": "stdout",
          "text": [
            "TIGER\n",
            "ELEPHANT\n",
            "MONKEY\n",
            "ZEBRA\n",
            "PANTHER\n"
          ]
        }
      ]
    },
    {
      "cell_type": "code",
      "source": [
        "#Write a program that iterates from 1 to 20, printing each number and whether it's odd or even.\n",
        "for number in range(1, 21):\n",
        "    if number % 2 == 0:\n",
        "        print(f\"{number} is even\")\n",
        "    else:\n",
        "        print(f\"{number} is odd\")\n"
      ],
      "metadata": {
        "colab": {
          "base_uri": "https://localhost:8080/"
        },
        "id": "r9Soi3qYdYNm",
        "outputId": "42a9e8fd-6269-45b6-ef3b-ee6678c0e1e0"
      },
      "execution_count": 9,
      "outputs": [
        {
          "output_type": "stream",
          "name": "stdout",
          "text": [
            "1 is odd\n",
            "2 is even\n",
            "3 is odd\n",
            "4 is even\n",
            "5 is odd\n",
            "6 is even\n",
            "7 is odd\n",
            "8 is even\n",
            "9 is odd\n",
            "10 is even\n",
            "11 is odd\n",
            "12 is even\n",
            "13 is odd\n",
            "14 is even\n",
            "15 is odd\n",
            "16 is even\n",
            "17 is odd\n",
            "18 is even\n",
            "19 is odd\n",
            "20 is even\n"
          ]
        }
      ]
    },
    {
      "cell_type": "code",
      "source": [
        "#Write a program to check if a string is a palindrome or not.\n",
        "word = input(\"Enter a word: \")\n",
        "\n",
        "wordreverse = word[::-1]\n",
        "\n",
        "if word == wordreverse:\n",
        "  print(f\"{word} is a palindrome\")\n",
        "else:\n",
        "  print(f\"{word} is not palindrome\")"
      ],
      "metadata": {
        "colab": {
          "base_uri": "https://localhost:8080/"
        },
        "id": "XFRVeDnHfaIn",
        "outputId": "ea698561-b273-4697-9ef1-47607fc0df51"
      },
      "execution_count": 12,
      "outputs": [
        {
          "output_type": "stream",
          "name": "stdout",
          "text": [
            "Enter a word: madam\n",
            "madam is a palindrome\n"
          ]
        }
      ]
    },
    {
      "cell_type": "code",
      "source": [
        "#Write a function sum_of_integers(a, b) that takes two integers as input from the user and returns their sum.\n",
        "a = input(\"Enter integer A: \")\n",
        "b = input(\"Enter integer B: \")\n",
        "\n",
        "a_int =int(a)\n",
        "\n",
        "b_int =int(b)\n",
        "\n",
        "sum = int(a) + int(b)\n",
        "\n",
        "print(sum)"
      ],
      "metadata": {
        "colab": {
          "base_uri": "https://localhost:8080/"
        },
        "id": "zd6ciMjnhKuH",
        "outputId": "57076863-039c-49c5-f373-e56a72c35b7c"
      },
      "execution_count": 18,
      "outputs": [
        {
          "output_type": "stream",
          "name": "stdout",
          "text": [
            "Enter integer A: 87\n",
            "Enter integer B: -98\n",
            "-11\n"
          ]
        }
      ]
    }
  ]
}